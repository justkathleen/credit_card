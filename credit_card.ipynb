{
 "cells": [
  {
   "cell_type": "code",
   "execution_count": null,
   "id": "04e40352",
   "metadata": {},
   "outputs": [],
   "source": [
    "import pandas as pd"
   ]
  },
  {
   "cell_type": "code",
   "execution_count": null,
   "id": "83d6895a",
   "metadata": {},
   "outputs": [],
   "source": [
    "data = pd.read_csv('/Users/angelinakathleen/Downloads/creditcard/credit_card/BankChurners.csv')"
   ]
  },
  {
   "cell_type": "code",
   "execution_count": null,
   "id": "2168ad09",
   "metadata": {},
   "outputs": [],
   "source": [
    "data.head()"
   ]
  },
  {
   "cell_type": "code",
   "execution_count": null,
   "id": "24babbc4",
   "metadata": {},
   "outputs": [],
   "source": [
    "data.isna().sum()"
   ]
  },
  {
   "cell_type": "code",
   "execution_count": null,
   "id": "63f34534",
   "metadata": {},
   "outputs": [],
   "source": [
    "data = data.drop(['Naive_Bayes_Classifier_Attrition_Flag_Card_Category_Contacts_Count_12_mon_Dependent_count_Education_Level_Months_Inactive_12_mon_1',\n",
    "          'Naive_Bayes_Classifier_Attrition_Flag_Card_Category_Contacts_Count_12_mon_Dependent_count_Education_Level_Months_Inactive_12_mon_2'], axis = 1)"
   ]
  },
  {
   "cell_type": "code",
   "execution_count": null,
   "id": "4c0f7014",
   "metadata": {},
   "outputs": [],
   "source": [
    "data.head()"
   ]
  },
  {
   "cell_type": "code",
   "execution_count": null,
   "id": "0737ed8d",
   "metadata": {},
   "outputs": [],
   "source": [
    "cat_cols = [col for col in data if data[col].dtype == \"object\"]\n",
    "print(cat_cols)"
   ]
  },
  {
   "cell_type": "code",
   "execution_count": null,
   "id": "355994d1",
   "metadata": {},
   "outputs": [],
   "source": [
    "num_cols = [col for col in data if data[col].dtype != \"object\"]\n",
    "print(num_cols)"
   ]
  },
  {
   "cell_type": "code",
   "execution_count": null,
   "id": "ce6b3102",
   "metadata": {},
   "outputs": [],
   "source": [
    "data[\"Attrition_Flag\"].value_counts() "
   ]
  },
  {
   "cell_type": "code",
   "execution_count": null,
   "id": "8510fe8f",
   "metadata": {},
   "outputs": [],
   "source": [
    "data[\"Gender\"].value_counts() "
   ]
  },
  {
   "cell_type": "code",
   "execution_count": null,
   "id": "abb24c57",
   "metadata": {
    "scrolled": true
   },
   "outputs": [],
   "source": [
    "data[\"Education_Level\"].value_counts() "
   ]
  },
  {
   "cell_type": "code",
   "execution_count": null,
   "id": "8f2f6d5b",
   "metadata": {},
   "outputs": [],
   "source": [
    "data[\"Marital_Status\"].value_counts() "
   ]
  },
  {
   "cell_type": "code",
   "execution_count": null,
   "id": "be0354d2",
   "metadata": {},
   "outputs": [],
   "source": [
    "data[\"Income_Category\"].value_counts() "
   ]
  },
  {
   "cell_type": "code",
   "execution_count": null,
   "id": "5b34991f",
   "metadata": {},
   "outputs": [],
   "source": [
    "data[\"Card_Category\"].value_counts() "
   ]
  },
  {
   "cell_type": "code",
   "execution_count": null,
   "id": "c670d046",
   "metadata": {},
   "outputs": [],
   "source": [
    "cleanup = {\n",
    "    \"Attrition_Flag\" : {\"Existing Customer\": 0, \"Attrited Customer\": 1},\n",
    "    \"Gender\" : {\"F\": 0, \"M\": 1},\n",
    "    \"Education_Level\": {\"Graduate\": 0, \"High School\": 1, \"Unknown\": 2, \"Uneducated\": 3, \"College\": 4,\n",
    "                       \"Post-Graduate\": 5, \"Doctorate\": 6},\n",
    "    \"Marital_Status\" : {\"Married\": 0, \"Single\": 1, \"Unknown\" : 2, \"Divorced\" : 3},\n",
    "    \"Income_Category\" : {\"Less than $40K\": 0, \"$40K - $60K\" : 1, \"$80K - $120K\": 2, \"$60K - $80K\": 3,\n",
    "                        \"Unknown\": 4, \"$120K +\": 5},\n",
    "    \"Card_Category\" : {\"Blue\": 0, \"Silver\": 1, \"Gold\": 2, \"Platinum\" : 3}\n",
    "}"
   ]
  },
  {
   "cell_type": "code",
   "execution_count": null,
   "id": "72adc6fd",
   "metadata": {},
   "outputs": [],
   "source": [
    "data = data.replace(cleanup)\n",
    "data.head()"
   ]
  },
  {
   "cell_type": "code",
   "execution_count": null,
   "id": "73c70ff8",
   "metadata": {},
   "outputs": [],
   "source": [
    "new_cat_cols = [col for col in data if data[col].dtype == \"object\"]\n",
    "print(new_cat_cols)"
   ]
  },
  {
   "cell_type": "code",
   "execution_count": null,
   "id": "6714b404",
   "metadata": {},
   "outputs": [],
   "source": [
    "data.info()"
   ]
  },
  {
   "cell_type": "code",
   "execution_count": null,
   "id": "c0772f4d",
   "metadata": {},
   "outputs": [],
   "source": [
    "y = data[\"Attrition_Flag\"]\n",
    "X = data.drop(\"Attrition_Flag\", errors = \"ignore\", axis = 1)"
   ]
  },
  {
   "cell_type": "code",
   "execution_count": null,
   "id": "533a6d2b",
   "metadata": {},
   "outputs": [],
   "source": [
    "import sklearn\n",
    "import pickle\n",
    "from sklearn.ensemble import RandomForestClassifier\n",
    "from sklearn.model_selection import train_test_split"
   ]
  },
  {
   "cell_type": "code",
   "execution_count": null,
   "id": "5c2fb1a8",
   "metadata": {},
   "outputs": [],
   "source": [
    "best = 0\n",
    "\n",
    "for _ in range(20):\n",
    "    x_train, x_test, y_train, y_test = sklearn.model_selection.train_test_split(X, y, test_size=0.1)\n",
    "    model = RandomForestClassifier(random_state = 0)\n",
    "    model.fit(x_train, y_train)\n",
    "    acc = model.score(x_test, y_test)\n",
    "    if acc > best:\n",
    "        best = acc\n",
    "        with open(\"bestmodel.pickle\", \"wb\") as f:\n",
    "            pickle.dump(model, f)\n",
    "        \n"
   ]
  }
 ],
 "metadata": {
  "kernelspec": {
   "display_name": "Python 3 (ipykernel)",
   "language": "python",
   "name": "python3"
  },
  "language_info": {
   "codemirror_mode": {
    "name": "ipython",
    "version": 3
   },
   "file_extension": ".py",
   "mimetype": "text/x-python",
   "name": "python",
   "nbconvert_exporter": "python",
   "pygments_lexer": "ipython3",
   "version": "3.9.7"
  }
 },
 "nbformat": 4,
 "nbformat_minor": 5
}
